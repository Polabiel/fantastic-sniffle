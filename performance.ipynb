{
 "cells": [
  {
   "cell_type": "code",
   "execution_count": 9,
   "metadata": {},
   "outputs": [],
   "source": [
    "import pandas\n",
    "import numpy"
   ]
  },
  {
   "cell_type": "code",
   "execution_count": 10,
   "metadata": {},
   "outputs": [],
   "source": [
    "dataset = pandas.read_csv('owid-covid-data_top10.csv')"
   ]
  },
  {
   "cell_type": "code",
   "execution_count": null,
   "metadata": {},
   "outputs": [],
   "source": [
    "dataset[dataset['iso_code'].isin([\"BRA\", \"USA\"])]"
   ]
  },
  {
   "cell_type": "code",
   "execution_count": null,
   "metadata": {},
   "outputs": [],
   "source": [
    "dataset['new_cases_percetange'] = dataset['new_cases'] / dataset['total_cases']\n",
    "\n",
    "columns_to_show = ['date', 'total_cases', 'new_cases', 'new_cases_percetange']\n",
    "\n",
    "dataset[columns_to_show]"
   ]
  },
  {
   "cell_type": "code",
   "execution_count": null,
   "metadata": {},
   "outputs": [],
   "source": [
    "dataset['lg_new_cases'] = numpy.log(dataset['new_cases'])\n",
    "\n",
    "columns_to_show_lg_new_cases = ['date', 'new_cases', 'total_cases', 'lg_new_cases']\n",
    "\n",
    "dataset[columns_to_show_lg_new_cases]"
   ]
  },
  {
   "cell_type": "code",
   "execution_count": null,
   "metadata": {},
   "outputs": [],
   "source": [
    "dataset['new_cases'].mean()"
   ]
  },
  {
   "cell_type": "code",
   "execution_count": null,
   "metadata": {},
   "outputs": [],
   "source": [
    "dataset['total_cases_sq'] = dataset['total_cases'].apply(lambda x: (x**2) / 1e6)\n",
    "\n",
    "dataset['total_cases_sq']"
   ]
  },
  {
   "cell_type": "code",
   "execution_count": 14,
   "metadata": {},
   "outputs": [
    {
     "data": {
      "text/plain": [
       "0              brazil\n",
       "1              brazil\n",
       "2              brazil\n",
       "3              brazil\n",
       "4              brazil\n",
       "            ...      \n",
       "7658    united states\n",
       "7659    united states\n",
       "7660    united states\n",
       "7661    united states\n",
       "7662    united states\n",
       "Name: lower_location, Length: 7663, dtype: object"
      ]
     },
     "execution_count": 14,
     "metadata": {},
     "output_type": "execute_result"
    }
   ],
   "source": [
    "dataset['lower_location'] = dataset['location'].str.lower()\n",
    "\n",
    "dataset['lower_location']"
   ]
  },
  {
   "cell_type": "code",
   "execution_count": 17,
   "metadata": {},
   "outputs": [],
   "source": [
    "# exportação de arquivo por memoria\n",
    "dataset.to_csv('covidnaoeumagripzinha.csv', sep=',', encoding='utf8',index= False)"
   ]
  }
 ],
 "metadata": {
  "language_info": {
   "name": "python"
  }
 },
 "nbformat": 4,
 "nbformat_minor": 2
}
